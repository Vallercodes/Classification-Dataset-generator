{
 "cells": [
  {
   "cell_type": "code",
   "execution_count": 1,
   "metadata": {},
   "outputs": [],
   "source": [
    "import random # import minimum librarys\n",
    "import pandas as pd"
   ]
  },
  {
   "cell_type": "code",
   "execution_count": 2,
   "metadata": {},
   "outputs": [
    {
     "name": "stdout",
     "output_type": "stream",
     "text": [
      "   Height  Width  Label\n",
      "0       1      1      1\n",
      "1       4      3      1\n",
      "2       3      4      2\n",
      "3       7      6      2\n",
      "4       6      7      3\n",
      "5       9      9      3\n",
      "Height    int64\n",
      "Width     int64\n",
      "Label     int64\n",
      "dtype: object\n"
     ]
    }
   ],
   "source": [
    "toys = {'Height': [1, 4, 3, 7, 6, 9], 'Width' : [1, 3, 4, 6, 7, 9],'Label' : [1, 1, 2, 2, 3, 3]} # Dataset construsted with min-max variables\n",
    "df1 = pd.DataFrame(toys, columns = ['Height', 'Width', 'Label']) # Dataframe set with 2 variables and 1 label`\n",
    "print(df1)\n",
    "print(df1.dtypes)"
   ]
  },
  {
   "cell_type": "code",
   "execution_count": 3,
   "metadata": {},
   "outputs": [
    {
     "name": "stdout",
     "output_type": "stream",
     "text": [
      "       Height  Width  Label\n",
      "0           1      1      1\n",
      "1           4      3      1\n",
      "2           3      4      2\n",
      "3           7      6      2\n",
      "4           6      7      3\n",
      "...       ...    ...    ...\n",
      "10001       9      9      3\n",
      "10002       3      4      2\n",
      "10003       3      3      1\n",
      "10004       3      3      1\n",
      "10005       5      7      3\n",
      "\n",
      "[10006 rows x 3 columns]\n"
     ]
    }
   ],
   "source": [
    "def gubA():     #  setting paramiters for variables and label\n",
    "    dfn = pd.DataFrame({\"Height\" : [random.randint(1, 4)],  \"Width\" : [random.randint(1, 4)],  \"Label\" : 1})\n",
    "    return dfn   #  change number of variables here you must update the column labels in the df constructor\n",
    "def gubB():\n",
    "    dfn = pd.DataFrame({\"Height\" : [random.randint(3, 8)],  \"Width\" : [random.randint(4, 6)],  \"Label\" : 2})\n",
    "    return dfn\n",
    "def gubC():\n",
    "    dfn = pd.DataFrame({\"Height\" : [random.randint(5, 9)],  \"Width\" : [random.randint(7, 9)],  \"Label\" : 3})\n",
    "    return dfn\n",
    " # for additional labels copy above function changing func name\n",
    "for i in range(10000):     #    change the range here for required number of random generated instances, note the total will be x3\n",
    "    hy = random.randint(1,3) # # this will need to be changed if you adjust the  number of labels above or below 3\n",
    "    if hy == 1:\n",
    "        df1 = df1.append(gubA(), ignore_index=True)        \n",
    "    elif hy == 2:\n",
    "        df1 = df1.append(gubB(), ignore_index=True)        \n",
    "    else:\n",
    "        df1 = df1.append(gubC(), ignore_index=True)        \n",
    "print(df1)\n",
    "df1.to_csv('CLUMP_GenData.csv', index=False)"
   ]
  },
  {
   "cell_type": "code",
   "execution_count": 4,
   "metadata": {},
   "outputs": [],
   "source": []
  },
  {
   "cell_type": "code",
   "execution_count": null,
   "metadata": {},
   "outputs": [],
   "source": []
  },
  {
   "cell_type": "code",
   "execution_count": null,
   "metadata": {},
   "outputs": [],
   "source": []
  },
  {
   "cell_type": "code",
   "execution_count": null,
   "metadata": {},
   "outputs": [],
   "source": []
  }
 ],
 "metadata": {
  "kernelspec": {
   "display_name": "Python 3",
   "language": "python",
   "name": "python3"
  },
  "language_info": {
   "codemirror_mode": {
    "name": "ipython",
    "version": 3
   },
   "file_extension": ".py",
   "mimetype": "text/x-python",
   "name": "python",
   "nbconvert_exporter": "python",
   "pygments_lexer": "ipython3",
   "version": "3.7.6"
  }
 },
 "nbformat": 4,
 "nbformat_minor": 4
}
